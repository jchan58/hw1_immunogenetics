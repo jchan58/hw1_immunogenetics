{
 "cells": [
  {
   "cell_type": "code",
   "execution_count": 33,
   "metadata": {},
   "outputs": [],
   "source": [
    "import pandas as pd\n",
    "import csv\n",
    "import seaborn as sns\n",
    "import numpy as np\n",
    "import matplotlib.pyplot as plt"
   ]
  },
  {
   "cell_type": "code",
   "execution_count": 5,
   "metadata": {},
   "outputs": [
    {
     "name": "stdout",
     "output_type": "stream",
     "text": [
      "                                  sequence_id  \\\n",
      "0     0_merged_read_SRR3620032.1_1_length=300   \n",
      "1     1_merged_read_SRR3620032.2_2_length=300   \n",
      "2     2_merged_read_SRR3620032.3_3_length=300   \n",
      "3     3_merged_read_SRR3620032.4_4_length=300   \n",
      "4     4_merged_read_SRR3620032.5_5_length=300   \n",
      "...                                       ...   \n",
      "1227                                       96   \n",
      "1228                                       97   \n",
      "1229                                       98   \n",
      "1230                                       99   \n",
      "1231                                      100   \n",
      "\n",
      "                                               sequence locus stop_codon  \\\n",
      "0     CAGGTGCAGCTGGTGCAGTCTGGGGCTGAGGTGAAGAAGCCTGGGG...   IGH          F   \n",
      "1     GAGGTGCAGCTGTTGGAGTCTGGGGGAGGCTTGGTACAGCCTGGGG...   IGH          F   \n",
      "2     CAGCTGCAGCTGCAGGAGTCGGGCCCAGGACTGGTGAAGCCTTCGG...   IGH          F   \n",
      "3     CAGGTGCAGCTGGTGCAGTCTGGGGCTGAGGTGAAGAAGCCTGGGG...   IGH          T   \n",
      "4     GAGGTGCAGCTGGTGCAGTCTGGAGCAGAGGTGAAAAAGCCCGGGG...   IGH          F   \n",
      "...                                                 ...   ...        ...   \n",
      "1227                                                  1   0.1       93.5   \n",
      "1228                                                  1   0.1       93.9   \n",
      "1229                                                  1   0.1       95.5   \n",
      "1230                                                  1   0.1       90.8   \n",
      "1231                                                  1   0.1       92.8   \n",
      "\n",
      "     vj_in_frame v_frameshift                                     productive  \\\n",
      "0              T            F                                              T   \n",
      "1              T            F                                              T   \n",
      "2              T            F                                              T   \n",
      "3              T            F                                              F   \n",
      "4              T            F                                              T   \n",
      "...          ...          ...                                            ...   \n",
      "1227        93.5         93.5  1086_merged_read_SRR3620032.1087_1087_length=   \n",
      "1228        93.9         93.9  322_merged_read_SRR3620032.323_323_length=300   \n",
      "1229        95.5         95.5     48_merged_read_SRR3620032.49_49_length=300   \n",
      "1230        90.8         90.8  903_merged_read_SRR3620032.904_904_length=300   \n",
      "1231        92.8         92.8  588_merged_read_SRR3620032.589_589_length=300   \n",
      "\n",
      "     rev_comp complete_vdj                    v_call  ... fwr3_start fwr3_end  \\\n",
      "0           F            T     IGHV1-2*02,IGHV1-2*07  ...      175.0    288.0   \n",
      "1           F            T  IGHV3-23*01,IGHV3-23D*01  ...      175.0    288.0   \n",
      "2           F            T               IGHV4-39*07  ...      178.0    291.0   \n",
      "3           F            T                IGHV1-2*04  ...      175.0    294.0   \n",
      "4           F            T               IGHV5-51*01  ...      175.0    288.0   \n",
      "...       ...          ...                       ...  ...        ...      ...   \n",
      "1227      NaN          NaN                       NaN  ...        NaN      NaN   \n",
      "1228      NaN          NaN                       NaN  ...        NaN      NaN   \n",
      "1229      NaN          NaN                       NaN  ...        NaN      NaN   \n",
      "1230      NaN          NaN                       NaN  ...        NaN      NaN   \n",
      "1231      NaN          NaN                       NaN  ...        NaN      NaN   \n",
      "\n",
      "     fwr4_start fwr4_end cdr3_start cdr3_end           np1  np1_length  \\\n",
      "0         325.0    357.0      289.0    324.0    TCTTGCTAAC        10.0   \n",
      "1         328.0    360.0      289.0    327.0       GTCTTAA         7.0   \n",
      "2         319.0    351.0      292.0    318.0            AA         2.0   \n",
      "3         337.0    369.0      295.0    336.0         GGGGG         5.0   \n",
      "4         331.0    363.0      289.0    330.0  CATTACGGCTGA        12.0   \n",
      "...         ...      ...        ...      ...           ...         ...   \n",
      "1227        NaN      NaN        NaN      NaN           NaN         NaN   \n",
      "1228        NaN      NaN        NaN      NaN           NaN         NaN   \n",
      "1229        NaN      NaN        NaN      NaN           NaN         NaN   \n",
      "1230        NaN      NaN        NaN      NaN           NaN         NaN   \n",
      "1231        NaN      NaN        NaN      NaN           NaN         NaN   \n",
      "\n",
      "             np2  np2_length  \n",
      "0           TCTG         4.0  \n",
      "1             GC         2.0  \n",
      "2     TCGCCCGCGG        10.0  \n",
      "3          GAGGC         5.0  \n",
      "4            CCT         3.0  \n",
      "...          ...         ...  \n",
      "1227         NaN         NaN  \n",
      "1228         NaN         NaN  \n",
      "1229         NaN         NaN  \n",
      "1230         NaN         NaN  \n",
      "1231         NaN         NaN  \n",
      "\n",
      "[1232 rows x 94 columns]\n"
     ]
    }
   ],
   "source": [
    "#this is 1.1 for the memory sample \n",
    "memory_df = pd.read_csv(\"/Users/Joey_Chan/hw1_immunogenetics/memory.csv\", sep=\"\\t\")\n",
    "print(memory_df)"
   ]
  },
  {
   "cell_type": "code",
   "execution_count": 32,
   "metadata": {},
   "outputs": [
    {
     "name": "stdout",
     "output_type": "stream",
     "text": [
      "                       v_call    j_call\n",
      "0       IGHV1-2*02,IGHV1-2*07  IGHJ4*02\n",
      "1    IGHV3-23*01,IGHV3-23D*01  IGHJ1*01\n",
      "2                 IGHV4-39*07  IGHJ4*02\n",
      "3                  IGHV1-2*04  IGHJ4*02\n",
      "4                 IGHV5-51*01  IGHJ4*02\n",
      "..                        ...       ...\n",
      "995               IGHV3-21*06  IGHJ4*02\n",
      "996               IGHV4-59*01  IGHJ4*02\n",
      "997              IGHV3-64D*09  IGHJ4*02\n",
      "998                IGHV1-2*02  IGHJ6*02\n",
      "999  IGHV3-23*01,IGHV3-23D*01  IGHJ6*02\n",
      "\n",
      "[1000 rows x 2 columns]\n"
     ]
    }
   ],
   "source": [
    "filtered_memory = memory_df[['v_call', 'j_call']].copy()\n",
    "filtered_memory = filtered_memory.dropna()\n",
    "print(filtered_memory)"
   ]
  },
  {
   "cell_type": "code",
   "execution_count": 35,
   "metadata": {},
   "outputs": [],
   "source": [
    "memory_problem1 = pd.DataFrame()\n",
    "#we are taking our filtered dataframe and now creating another data frame that contains the v gene and j genes used. We are splitting the gene name from the allele name because two different alleles can still mean the same gene\n",
    "memory_problem1['V gene used'] = filtered_memory['v_call'].map(lambda gene: gene.split('*')[0])\n",
    "memory_problem1['J gene used'] = filtered_memory['j_call'].map(lambda gene: gene.split('*')[0])\n",
    "#create a new collumn that represents value (1 occurance per combo)\n",
    "#it should be the same length as the v and j gene collums (they are the same length)\n",
    "memory_problem1['Value'] = np.ones(len(memory_problem1['J gene used']))"
   ]
  },
  {
   "cell_type": "code",
   "execution_count": 36,
   "metadata": {},
   "outputs": [
    {
     "data": {
      "image/png": "[encoded data removed]",
      "text/plain": [
       "<Figure size 432x288 with 2 Axes>"
      ]
     },
     "metadata": {
      "needs_background": "light"
     },
     "output_type": "display_data"
    }
   ],
   "source": [
    "#generating our heatmap\n",
    "\n",
    "#make our data into table format for heatmap function\n",
    "memory_heatmap_data = pd.pivot_table(memory_problem1, index = 'J gene used', columns = 'V gene used', values= 'Value', aggfunc= np.sum)\n",
    "#handling the na values as 0\n",
    "memory_heatmap_data = memory_heatmap_data.fillna(0)\n",
    "memory_heatmap = sns.heatmap(memory_heatmap_data)"
   ]
  },
  {
   "cell_type": "code",
   "execution_count": 38,
   "metadata": {},
   "outputs": [
    {
     "name": "stdout",
     "output_type": "stream",
     "text": [
      "                                  sequence_id  \\\n",
      "0     0_merged_read_SRR3620035.1_1_length=301   \n",
      "1     1_merged_read_SRR3620035.2_2_length=301   \n",
      "2     2_merged_read_SRR3620035.3_3_length=301   \n",
      "3     3_merged_read_SRR3620035.4_4_length=301   \n",
      "4     4_merged_read_SRR3620035.5_5_length=301   \n",
      "...                                       ...   \n",
      "1209                                       96   \n",
      "1210                                       97   \n",
      "1211                                       98   \n",
      "1212                                       99   \n",
      "1213                                      100   \n",
      "\n",
      "                                               sequence locus stop_codon  \\\n",
      "0     GAGGTGCAGCTGGTGGAGTCTGGGGGAGGCTTGGTACAGCCAGGGC...   IGH          F   \n",
      "1     CAGGTGCAGCTGGTGGAGTCTGGGGGAGGCGTGGTCCAGCCTGGGA...   IGH          F   \n",
      "2     CAGGTGCAGCTGCAGGAGTCGGGCCCAGGACTGGTGAAGCCTTCGG...   IGH          F   \n",
      "3     CAGGTGCAGCTGCAGGAGTCGGGCCCAGGACTGGTGAAGCCTTCGG...   IGH          F   \n",
      "4     CAGGTCACCTTGAAGGAGTCTGGTCCTACGCTGGTGAAACCCACAG...   IGH          F   \n",
      "...                                                 ...   ...        ...   \n",
      "1209                                                  1   0.1        100   \n",
      "1210                                                  1   0.1        100   \n",
      "1211                                                  1   0.1        100   \n",
      "1212                                                  1   0.1        100   \n",
      "1213                                                  1   0.1         99   \n",
      "\n",
      "     vj_in_frame v_frameshift                                     productive  \\\n",
      "0              T            F                                              T   \n",
      "1              T            F                                              T   \n",
      "2              T            F                                              T   \n",
      "3              T            F                                              T   \n",
      "4              T            F                                              T   \n",
      "...          ...          ...                                            ...   \n",
      "1209         100          100  755_merged_read_SRR3620035.756_756_length=301   \n",
      "1210         100          100  695_merged_read_SRR3620035.696_696_length=301   \n",
      "1211         100          100  623_merged_read_SRR3620035.624_624_length=301   \n",
      "1212         100          100     76_merged_read_SRR3620035.77_77_length=301   \n",
      "1213          99           99  532_merged_read_SRR3620035.533_533_length=301   \n",
      "\n",
      "     rev_comp complete_vdj       v_call  ... fwr3_start fwr3_end fwr4_start  \\\n",
      "0           F            T  IGHV3-49*03  ...      181.0    294.0      343.0   \n",
      "1           F            T  IGHV3-33*08  ...      175.0    288.0      343.0   \n",
      "2           F            T  IGHV4-59*01  ...      172.0    285.0      319.0   \n",
      "3           F            T   IGHV4-4*02  ...      175.0    288.0      340.0   \n",
      "4           F            T  IGHV2-26*01  ...      178.0    291.0      355.0   \n",
      "...       ...          ...          ...  ...        ...      ...        ...   \n",
      "1209      NaN          NaN          NaN  ...        NaN      NaN        NaN   \n",
      "1210      NaN          NaN          NaN  ...        NaN      NaN        NaN   \n",
      "1211      NaN          NaN          NaN  ...        NaN      NaN        NaN   \n",
      "1212      NaN          NaN          NaN  ...        NaN      NaN        NaN   \n",
      "1213      NaN          NaN          NaN  ...        NaN      NaN        NaN   \n",
      "\n",
      "     fwr4_end cdr3_start cdr3_end           np1  np1_length        np2  \\\n",
      "0       375.0      295.0    342.0  TGGGGCGGGGAC        12.0   AACATTTG   \n",
      "1       375.0      289.0    342.0   TCTACTGCATA        11.0       CCAC   \n",
      "2       351.0      286.0    318.0      TCGAAGGC         8.0        NaN   \n",
      "3       372.0      289.0    339.0    ACCTGTTTCC        10.0      CCCGG   \n",
      "4       387.0      292.0    354.0       TAGGGGG         7.0  TCTTCTGGA   \n",
      "...       ...        ...      ...           ...         ...        ...   \n",
      "1209      NaN        NaN      NaN           NaN         NaN        NaN   \n",
      "1210      NaN        NaN      NaN           NaN         NaN        NaN   \n",
      "1211      NaN        NaN      NaN           NaN         NaN        NaN   \n",
      "1212      NaN        NaN      NaN           NaN         NaN        NaN   \n",
      "1213      NaN        NaN      NaN           NaN         NaN        NaN   \n",
      "\n",
      "      np2_length  \n",
      "0            8.0  \n",
      "1            4.0  \n",
      "2            NaN  \n",
      "3            5.0  \n",
      "4            9.0  \n",
      "...          ...  \n",
      "1209         NaN  \n",
      "1210         NaN  \n",
      "1211         NaN  \n",
      "1212         NaN  \n",
      "1213         NaN  \n",
      "\n",
      "[1214 rows x 94 columns]\n"
     ]
    }
   ],
   "source": [
    "#this is 1.1 for the naive sample \n",
    "naive_df = pd.read_csv(\"/Users/Joey_Chan/hw1_immunogenetics/naive.csv\", sep=\"\\t\")\n",
    "print(naive_df)"
   ]
  },
  {
   "cell_type": "code",
   "execution_count": 40,
   "metadata": {},
   "outputs": [
    {
     "name": "stdout",
     "output_type": "stream",
     "text": [
      "                      v_call             j_call\n",
      "0                IGHV3-49*03           IGHJ4*02\n",
      "1                IGHV3-33*08           IGHJ6*02\n",
      "2                IGHV4-59*01           IGHJ6*02\n",
      "3                 IGHV4-4*02           IGHJ2*01\n",
      "4                IGHV2-26*01           IGHJ2*01\n",
      "..                       ...                ...\n",
      "995  IGHV3-66*01,IGHV3-66*04           IGHJ6*02\n",
      "996              IGHV4-59*01           IGHJ4*02\n",
      "997              IGHV1-58*02  IGHJ4*02,IGHJ5*02\n",
      "998              IGHV4-59*01           IGHJ4*02\n",
      "999               IGHV1-3*01           IGHJ6*02\n",
      "\n",
      "[1000 rows x 2 columns]\n"
     ]
    }
   ],
   "source": [
    "filtered_naive = naive_df[['v_call', 'j_call']].copy()\n",
    "filtered_naive = filtered_naive.dropna()\n",
    "print(filtered_naive)"
   ]
  },
  {
   "cell_type": "code",
   "execution_count": 42,
   "metadata": {},
   "outputs": [],
   "source": [
    "naive_problem1 = pd.DataFrame()\n",
    "#we are taking our filtered dataframe and now creating another data frame that contains the v gene and j genes used. We are splitting the gene name from the allele name because two different alleles can still mean the same gene\n",
    "naive_problem1['V gene used'] = filtered_naive['v_call'].map(lambda gene: gene.split('*')[0])\n",
    "naive_problem1['J gene used'] = filtered_naive['j_call'].map(lambda gene: gene.split('*')[0])\n",
    "#create a new collumn that represents value (1 occurance per combo)\n",
    "#it should be the same length as the v and j gene collums (they are the same length)\n",
    "naive_problem1['Value'] = np.ones(len(naive_problem1['J gene used']))"
   ]
  },
  {
   "cell_type": "code",
   "execution_count": 43,
   "metadata": {},
   "outputs": [
    {
     "data": {
      "image/png": "[encoded data removed]",
      "text/plain": [
       "<Figure size 432x288 with 2 Axes>"
      ]
     },
     "metadata": {
      "needs_background": "light"
     },
     "output_type": "display_data"
    }
   ],
   "source": [
    "#generating our heatmap\n",
    "\n",
    "#make our data into table format for heatmap function\n",
    "naive_heatmap_data = pd.pivot_table(naive_problem1, index = 'J gene used', columns = 'V gene used', values= 'Value', aggfunc= np.sum)\n",
    "#handling the na values as 0\n",
    "naive_heatmap_data = naive_heatmap_data.fillna(0)\n",
    "naive_heatmap = sns.heatmap(naive_heatmap_data)"
   ]
  },
  {
   "cell_type": "code",
   "execution_count": 44,
   "metadata": {},
   "outputs": [
    {
     "name": "stdout",
     "output_type": "stream",
     "text": [
      "                                  sequence_id  \\\n",
      "0     0_merged_read_SRR3620074.1_1_length=301   \n",
      "1     2_merged_read_SRR3620074.3_3_length=301   \n",
      "2     3_merged_read_SRR3620074.4_4_length=301   \n",
      "3     5_merged_read_SRR3620074.6_6_length=301   \n",
      "4     6_merged_read_SRR3620074.7_7_length=301   \n",
      "...                                       ...   \n",
      "1227                                       96   \n",
      "1228                                       97   \n",
      "1229                                       98   \n",
      "1230                                       99   \n",
      "1231                                      100   \n",
      "\n",
      "                                               sequence locus stop_codon  \\\n",
      "0     GAGGTGCAGCTGGTGGAGTCTGGGGGAGGCTTGGTCCAGCCTGGGG...   IGH          F   \n",
      "1     GAGGTGCAGCTGGTGGAGTCTGGGGGAGGCTTGGTCCAGCCTGGGG...   IGH          F   \n",
      "2     CAGGTCACCTTGAAGGAGTCTGGTCCTACGCTGGTGAAACCCAAAG...   IGH          F   \n",
      "3     GAGGTGCAGCTGGTGGAGTCTGGGGGAGGCTTGGTCCAGCCTGGGG...   IGH          F   \n",
      "4     CAGGTGCAGCTACAGCAGTGGGGCGCAGGACTGTTGAAGCCTTCGG...   IGH          T   \n",
      "...                                                 ...   ...        ...   \n",
      "1227                                                  2   0.2       93.5   \n",
      "1228                                                  2   0.2       91.8   \n",
      "1229                                                  2   0.2       92.9   \n",
      "1230                                                  2   0.2       92.9   \n",
      "1231                                                  2   0.2       92.5   \n",
      "\n",
      "     vj_in_frame v_frameshift  \\\n",
      "0              T            F   \n",
      "1              T            F   \n",
      "2              T            F   \n",
      "3              T            F   \n",
      "4              T            F   \n",
      "...          ...          ...   \n",
      "1227        93.9         93.7   \n",
      "1228        91.8         91.8   \n",
      "1229        94.9         93.9   \n",
      "1230        94.2         93.5   \n",
      "1231        93.2         92.9   \n",
      "\n",
      "                                             productive rev_comp complete_vdj  \\\n",
      "0                                                     T        F            T   \n",
      "1                                                     T        F            T   \n",
      "2                                                     T        F            T   \n",
      "3                                                     T        F            T   \n",
      "4                                                     F        F            T   \n",
      "...                                                 ...      ...          ...   \n",
      "1227  164_merged_read_SRR3620074.165_165_length=301,...      NaN          NaN   \n",
      "1228  19_merged_read_SRR3620074.20_20_length=301,103...      NaN          NaN   \n",
      "1229  522_merged_read_SRR3620074.523_523_length=301,...      NaN          NaN   \n",
      "1230  385_merged_read_SRR3620074.386_386_length=301,...      NaN          NaN   \n",
      "1231  116_merged_read_SRR3620074.117_117_length=301,...      NaN          NaN   \n",
      "\n",
      "           v_call  ... fwr3_start fwr3_end fwr4_start fwr4_end cdr3_start  \\\n",
      "0      IGHV3-7*01  ...      175.0    288.0      346.0    378.0      289.0   \n",
      "1      IGHV3-7*01  ...      175.0    288.0      346.0    378.0      289.0   \n",
      "2     IGHV2-26*01  ...      178.0    291.0      343.0    375.0      292.0   \n",
      "3      IGHV3-7*01  ...      175.0    288.0      346.0    378.0      289.0   \n",
      "4     IGHV4-34*01  ...      172.0    285.0      343.0    375.0      286.0   \n",
      "...           ...  ...        ...      ...        ...      ...        ...   \n",
      "1227          NaN  ...        NaN      NaN        NaN      NaN        NaN   \n",
      "1228          NaN  ...        NaN      NaN        NaN      NaN        NaN   \n",
      "1229          NaN  ...        NaN      NaN        NaN      NaN        NaN   \n",
      "1230          NaN  ...        NaN      NaN        NaN      NaN        NaN   \n",
      "1231          NaN  ...        NaN      NaN        NaN      NaN        NaN   \n",
      "\n",
      "     cdr3_end             np1  np1_length                np2  np2_length  \n",
      "0       345.0       GCGAGCGAG         9.0  GCGGTCCAAGTTAACCC        17.0  \n",
      "1       345.0       GCGAGCGAG         9.0  GCGGTCCAAGTTAACCC        17.0  \n",
      "2       342.0       GCCCTTTAC         9.0             CGTACA         6.0  \n",
      "3       345.0       AGAGGGAGT         9.0      GCGGTTCAAATTA        13.0  \n",
      "4       342.0  TTCGGGAACATGTC        14.0         ACCCCAAGCC        10.0  \n",
      "...       ...             ...         ...                ...         ...  \n",
      "1227      NaN             NaN         NaN                NaN         NaN  \n",
      "1228      NaN             NaN         NaN                NaN         NaN  \n",
      "1229      NaN             NaN         NaN                NaN         NaN  \n",
      "1230      NaN             NaN         NaN                NaN         NaN  \n",
      "1231      NaN             NaN         NaN                NaN         NaN  \n",
      "\n",
      "[1232 rows x 94 columns]\n"
     ]
    }
   ],
   "source": [
    "#this is 1.1 for the plasma sample \n",
    "plasma_df = pd.read_csv(\"/Users/Joey_Chan/hw1_immunogenetics/plasma.csv\", sep=\"\\t\")\n",
    "print(plasma_df)"
   ]
  },
  {
   "cell_type": "code",
   "execution_count": 45,
   "metadata": {},
   "outputs": [
    {
     "name": "stdout",
     "output_type": "stream",
     "text": [
      "          v_call    j_call\n",
      "0     IGHV3-7*01  IGHJ5*02\n",
      "1     IGHV3-7*01  IGHJ5*02\n",
      "2    IGHV2-26*01  IGHJ4*02\n",
      "3     IGHV3-7*01  IGHJ5*02\n",
      "4    IGHV4-34*01  IGHJ4*02\n",
      "..           ...       ...\n",
      "995   IGHV3-7*01  IGHJ5*02\n",
      "996  IGHV3-21*01  IGHJ4*02\n",
      "997   IGHV3-7*01  IGHJ5*02\n",
      "998  IGHV2-26*01  IGHJ4*02\n",
      "999   IGHV3-7*01  IGHJ5*02\n",
      "\n",
      "[1000 rows x 2 columns]\n"
     ]
    }
   ],
   "source": [
    "filtered_plasma = plasma_df[['v_call', 'j_call']].copy()\n",
    "filtered_plasma = filtered_plasma.dropna()\n",
    "print(filtered_plasma)"
   ]
  },
  {
   "cell_type": "code",
   "execution_count": 46,
   "metadata": {},
   "outputs": [],
   "source": [
    "plasma_problem1 = pd.DataFrame()\n",
    "#we are taking our filtered dataframe and now creating another data frame that contains the v gene and j genes used. We are splitting the gene name from the allele name because two different alleles can still mean the same gene\n",
    "plasma_problem1['V gene used'] = filtered_plasma['v_call'].map(lambda gene: gene.split('*')[0])\n",
    "plasma_problem1['J gene used'] = filtered_plasma['j_call'].map(lambda gene: gene.split('*')[0])\n",
    "#create a new collumn that represents value (1 occurance per combo)\n",
    "#it should be the same length as the v and j gene collums (they are the same length)\n",
    "plasma_problem1['Value'] = np.ones(len(plasma_problem1['J gene used']))"
   ]
  },
  {
   "cell_type": "code",
   "execution_count": 48,
   "metadata": {},
   "outputs": [
    {
     "name": "stdout",
     "output_type": "stream",
     "text": [
      "V gene used  IGHV1-2  IGHV1-24  IGHV1-69  IGHV2-26  IGHV3-11  IGHV3-15  \\\n",
      "J gene used                                                              \n",
      "IGHJ1            NaN       NaN       NaN       NaN       NaN       NaN   \n",
      "IGHJ3            2.0       NaN       NaN       NaN       NaN       NaN   \n",
      "IGHJ4            5.0       NaN      11.0      85.0       NaN       1.0   \n",
      "IGHJ5            NaN       3.0       NaN       NaN       NaN       NaN   \n",
      "IGHJ6           12.0       NaN       NaN       NaN       1.0       NaN   \n",
      "\n",
      "V gene used  IGHV3-21  IGHV3-23  IGHV3-30  IGHV3-33  IGHV3-48  IGHV3-7  \\\n",
      "J gene used                                                              \n",
      "IGHJ1             NaN       NaN       NaN       NaN       NaN      NaN   \n",
      "IGHJ3             NaN       NaN       NaN       NaN       NaN      NaN   \n",
      "IGHJ4            24.0       2.0       1.0       NaN       1.0      5.0   \n",
      "IGHJ5             6.0       NaN      17.0       NaN       2.0    745.0   \n",
      "IGHJ6             1.0       NaN      18.0       1.0       NaN     10.0   \n",
      "\n",
      "V gene used  IGHV3-74  IGHV3-9  IGHV4-34  IGHV4-39  IGHV4-59  IGHV5-10-1  \\\n",
      "J gene used                                                                \n",
      "IGHJ1             NaN      NaN       NaN       1.0       NaN         NaN   \n",
      "IGHJ3             NaN      NaN       NaN       NaN      16.0         NaN   \n",
      "IGHJ4             NaN      NaN       5.0       NaN       NaN         NaN   \n",
      "IGHJ5             1.0      3.0       NaN       4.0       NaN        11.0   \n",
      "IGHJ6             NaN      NaN       NaN       NaN       1.0         3.0   \n",
      "\n",
      "V gene used  IGHV5-51  \n",
      "J gene used            \n",
      "IGHJ1             NaN  \n",
      "IGHJ3             NaN  \n",
      "IGHJ4             1.0  \n",
      "IGHJ5             NaN  \n",
      "IGHJ6             1.0  \n"
     ]
    },
    {
     "data": {
      "image/png": "[encoded data removed]",
      "text/plain": [
       "<Figure size 432x288 with 2 Axes>"
      ]
     },
     "metadata": {
      "needs_background": "light"
     },
     "output_type": "display_data"
    }
   ],
   "source": [
    "#generating our heatmap\n",
    "\n",
    "#make our data into table format for heatmap function\n",
    "plasma_heatmap_data = pd.pivot_table(plasma_problem1, index = 'J gene used', columns = 'V gene used', values= 'Value', aggfunc= np.sum)\n",
    "print(plasma_heatmap_data)\n",
    "#handling the na values as 0\n",
    "plasma_heatmap_data = plasma_heatmap_data.fillna(0)\n",
    "plasma_heatmap = sns.heatmap(plasma_heatmap_data)"
   ]
  },
  {
   "cell_type": "code",
   "execution_count": 67,
   "metadata": {},
   "outputs": [
    {
     "name": "stdout",
     "output_type": "stream",
     "text": [
      "Top Ten V genes used in Memory Cell Dataset: \n",
      "IGHV3-23      114\n",
      "IGHV3-30       81\n",
      "IGHV3-7        68\n",
      "IGHV1-2        60\n",
      "IGHV1-18       55\n",
      "IGHV5-51       55\n",
      "IGHV1-69       38\n",
      "IGHV1-8        37\n",
      "IGHV3-30-3     30\n",
      "IGHV3-53       30\n",
      "Name: V gene used, dtype: int64\n"
     ]
    }
   ],
   "source": [
    "# problem 1.2 \n",
    "\n",
    "# getting the top 10 V gene used \n",
    "\n",
    "V_genes_used = memory_problem1['V gene used'].value_counts().sort_values(ascending=False)\n",
    "#print(V_genes_used)\n",
    "\n",
    "print(\"Top Ten V genes used in Memory Cell Dataset: \")\n",
    "\n",
    "top_ten_V_genes_used = V_genes_used[:10]\n",
    "print(top_ten_V_genes_used)"
   ]
  }
 ],
 "metadata": {
  "kernelspec": {
   "display_name": "Python 3.9.13 64-bit",
   "language": "python",
   "name": "python3"
  },
  "language_info": {
   "codemirror_mode": {
    "name": "ipython",
    "version": 3
   },
   "file_extension": ".py",
   "mimetype": "text/x-python",
   "name": "python",
   "nbconvert_exporter": "python",
   "pygments_lexer": "ipython3",
   "version": "3.9.13"
  },
  "orig_nbformat": 4,
  "vscode": {
   "interpreter": {
    "hash": "397704579725e15f5c7cb49fe5f0341eb7531c82d19f2c29d197e8b64ab5776b"
   }
  }
 },
 "nbformat": 4,
 "nbformat_minor": 2
}
